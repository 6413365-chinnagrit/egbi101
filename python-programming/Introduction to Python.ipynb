{
 "cells": [
  {
   "cell_type": "markdown",
   "id": "transparent-bristol",
   "metadata": {},
   "source": [
    "# **Introduction to Python**\n",
    "\n",
    "Reference: [AI Builders introduction to Python notebook](https://github.com/vistec-AI/ai-builders/blob/main/notebooks/ai_builder_intro_python.ipynb)"
   ]
  },
  {
   "cell_type": "markdown",
   "id": "supposed-victory",
   "metadata": {},
   "source": [
    "## 1. Basic Arithmethics\n",
    "\n",
    "Python can run simple math expressions: `+`, `-`, `*` (for multiplication), and `/` (for division), `%` for modulo, `//` for Floor division, `**` for Exponentiation."
   ]
  },
  {
   "cell_type": "code",
   "execution_count": null,
   "id": "144d4d14",
   "metadata": {},
   "outputs": [],
   "source": []
  },
  {
   "cell_type": "markdown",
   "id": "married-england",
   "metadata": {},
   "source": [
    "## 2. Variables"
   ]
  },
  {
   "cell_type": "markdown",
   "id": "ba76de99",
   "metadata": {},
   "source": [
    "```py\n",
    "# Print Command\n",
    "print(\"Hello world!\")\n",
    "\n",
    "# Variables Type\n",
    "10\n",
    "186.5\n",
    "\"Hello worlds\"\n",
    "True\n",
    "False\n",
    "(1, 2)\n",
    "{\"name\": \"John Doe\", \"email\": \"john.doe@mail.com\"}\n",
    "[1, 2, 3, 4, 5, 8]\n",
    "{1, 2, 3}\n",
    "```\n",
    "\n",
    "you can use `type(<variable_name>)` to get type of variables"
   ]
  },
  {
   "cell_type": "code",
   "execution_count": null,
   "id": "64131c4b",
   "metadata": {},
   "outputs": [],
   "source": []
  },
  {
   "cell_type": "markdown",
   "id": "medium-velvet",
   "metadata": {},
   "source": [
    "## 3. Function\n",
    "\n",
    "You can write a Python function by using:\n",
    "\n",
    "``` py\n",
    "def your_function_name(...):\n",
    "    \"\"\"Description of your function\"\"\"\n",
    "    return ...\n",
    "```\n",
    "\n",
    "Generally, function name tells what function does."
   ]
  },
  {
   "cell_type": "code",
   "execution_count": null,
   "id": "documented-saying",
   "metadata": {},
   "outputs": [],
   "source": []
  },
  {
   "cell_type": "markdown",
   "id": "banned-crawford",
   "metadata": {},
   "source": [
    "### Example: Temperature conversion\n",
    "\n",
    "We know that $\\frac{C}{5} = \\frac{F - 32}{9}$. Let's now write a function to convert temperature in Celcius to Farenheit and vice versa."
   ]
  },
  {
   "cell_type": "code",
   "execution_count": null,
   "id": "proof-immune",
   "metadata": {},
   "outputs": [],
   "source": []
  },
  {
   "cell_type": "markdown",
   "id": "congressional-ideal",
   "metadata": {},
   "source": [
    "## 4. Conditions"
   ]
  },
  {
   "cell_type": "markdown",
   "id": "1b11a237",
   "metadata": {},
   "source": [
    "Boolean is a type of variable which contain logic, it can be either `TRUE` or `FALSE`. Rational operation will give you a value of boolean.\n",
    "\n",
    "**Relational operator** \n",
    "\n",
    "```py\n",
    "5 > 2 # True\n",
    "4 >= 5 # False\n",
    "5 == 10 # False\n",
    "'hello' == 'hello' # True\n",
    "'Hello' == 'hello' # False\n",
    "'hello' != 'hello' # False\n",
    "'Hello' != 'hello'  # True\n",
    "'orange' < 'apple' # compare by alphabetical order\n",
    "```\n",
    "\n",
    "**or, and, not Operator**\n",
    "```py\n",
    "digit = 3\n",
    "digit == 8 or digit == 9 # False or False => False\n",
    "not True # False\n",
    "```"
   ]
  },
  {
   "cell_type": "code",
   "execution_count": null,
   "id": "durable-rogers",
   "metadata": {},
   "outputs": [],
   "source": []
  },
  {
   "cell_type": "markdown",
   "id": "9c42abac",
   "metadata": {},
   "source": [
    "Boolean operator can be used with `if` command for checking conditions and make a decision relied on the given value."
   ]
  },
  {
   "cell_type": "code",
   "execution_count": null,
   "id": "8b0bc30f",
   "metadata": {},
   "outputs": [],
   "source": [
    "apple_total = 20\n",
    "banana_total = 6\n",
    "if apple_total > banana_total:\n",
    "    print('A')\n",
    "\n",
    "\n",
    "if apple_total > banana_total:\n",
    "    print('A')\n",
    "elif banana_total > apple_total:\n",
    "    print('B')\n",
    "else: # apple_total == banana_total\n",
    "    print('T')"
   ]
  },
  {
   "cell_type": "markdown",
   "id": "bacterial-agenda",
   "metadata": {},
   "source": [
    "## 5.  Lists and For loops"
   ]
  },
  {
   "cell_type": "markdown",
   "id": "2f54b691",
   "metadata": {},
   "source": [
    "Instead of applying function for each point of data manually, packing data into a `list` then apply a function for each elements is more practical. You can iteration along the member in the lsit by using `for`"
   ]
  },
  {
   "cell_type": "code",
   "execution_count": null,
   "id": "4ef2d484",
   "metadata": {},
   "outputs": [],
   "source": [
    "for fruit in [\"apple\", \"orange\", \"tomato\"]:\n",
    "    print(fruit)"
   ]
  },
  {
   "cell_type": "code",
   "execution_count": null,
   "id": "a00bc6fc",
   "metadata": {},
   "outputs": [],
   "source": [
    "for id, fruit in enumerate([\"apple\", \"orange\", \"tomato\"]):\n",
    "    print(f\"ID {id} : {fruit}\")"
   ]
  },
  {
   "cell_type": "code",
   "execution_count": null,
   "id": "requested-mortgage",
   "metadata": {},
   "outputs": [],
   "source": [
    "sum = 0\n",
    "for i in range(10):\n",
    "    sum += i\n",
    "print(sum)"
   ]
  },
  {
   "cell_type": "markdown",
   "id": "d6088a6f",
   "metadata": {},
   "source": [
    "## 6. Class"
   ]
  },
  {
   "cell_type": "code",
   "execution_count": null,
   "id": "805e0d6a",
   "metadata": {},
   "outputs": [],
   "source": [
    "# Class Definitions\n",
    "class Human():\n",
    "    age = 0\n",
    "    name = ''\n",
    "    \n",
    "    def __init__(self, input_name, input_age):\n",
    "        self.name = input_name\n",
    "        self.age = input_age\n",
    "    \n",
    "    def self_intro(self):\n",
    "        print(\"Hi! I'm\" + self.name) # or print(\"Hi! I'm {self.name}\")"
   ]
  },
  {
   "cell_type": "code",
   "execution_count": null,
   "id": "b9c8ef11",
   "metadata": {},
   "outputs": [],
   "source": [
    "# Object Instantiation\n",
    "john = Human('johnathan wick', 20)"
   ]
  },
  {
   "cell_type": "markdown",
   "id": "d563d383",
   "metadata": {},
   "source": [
    "Now, Tye interact with the object using attributes and methods\n",
    "\n",
    "```py\n",
    "# Attibutes\n",
    "print(john.name)\n",
    "print(john.age)\n",
    "\n",
    "# Methods\n",
    "john.self_intro()\n",
    "```"
   ]
  },
  {
   "cell_type": "code",
   "execution_count": null,
   "id": "1ad2c08a",
   "metadata": {},
   "outputs": [],
   "source": []
  },
  {
   "cell_type": "code",
   "execution_count": null,
   "id": "5b081f5d",
   "metadata": {},
   "outputs": [],
   "source": [
    "# Define new class `Student` which inherited(extented) from `Human Class`\n",
    "\n",
    "class Student(Human):   \n",
    "\n",
    "    def print_student_id(self):\n",
    "        print(\"My ID is 1234\")\n",
    "\n",
    "    def self_intro(self):\n",
    "        print(f\"Hi! I'm a Student. Please call me {self.name}.\")\n",
    "        # or \n",
    "        # print(f\"Hi! I'm a Student. Please call me {self.name}.\")"
   ]
  },
  {
   "cell_type": "code",
   "execution_count": null,
   "id": "2a7d4303",
   "metadata": {},
   "outputs": [],
   "source": [
    "# Object Instantiation\n",
    "simon = Student('Simon Si', 21)"
   ]
  },
  {
   "cell_type": "markdown",
   "id": "f1291615",
   "metadata": {},
   "source": [
    "```py\n",
    "# Artibute\n",
    "print(simon.name)\n",
    "print(simon.age)\n",
    "\n",
    "# Methods\n",
    "simon.self_intro()          # Something changed isn't it?\n",
    "simon.print_student_id()\n",
    "```"
   ]
  },
  {
   "cell_type": "code",
   "execution_count": null,
   "id": "a785e1d4",
   "metadata": {},
   "outputs": [],
   "source": []
  },
  {
   "cell_type": "markdown",
   "id": "mental-swimming",
   "metadata": {},
   "source": [
    "## 7. Modules and Packages\n",
    "\n",
    "Packages are a way of structuring Python’s module namespace by using “dotted module names”."
   ]
  },
  {
   "cell_type": "code",
   "execution_count": null,
   "id": "interim-algebra",
   "metadata": {},
   "outputs": [],
   "source": []
  },
  {
   "cell_type": "markdown",
   "id": "appointed-shore",
   "metadata": {},
   "source": [
    "## 8. Numpy library\n",
    "\n",
    "NumPy is one of the the fundamental package for scientific computing in Python.\n"
   ]
  },
  {
   "cell_type": "code",
   "execution_count": null,
   "id": "elementary-rotation",
   "metadata": {},
   "outputs": [],
   "source": [
    "# Import numpy module\n",
    "import numpy as np"
   ]
  },
  {
   "cell_type": "markdown",
   "id": "cd8e0e0c",
   "metadata": {},
   "source": [
    "**Array Creation** : Manual creation from list, `arange` method, `zeros` method"
   ]
  },
  {
   "cell_type": "code",
   "execution_count": null,
   "id": "44e82120",
   "metadata": {},
   "outputs": [],
   "source": [
    "\n",
    "# ndarray creation\n",
    "number_array = np.array([0, 1, 2, 3, 4, 5])\n",
    "print(number_array)\n",
    "\n",
    "arange_array = np.arange(6)\n",
    "print(arange_array)\n",
    "\n",
    "zero_array = np.zeros(6)\n",
    "print(zero_array)"
   ]
  },
  {
   "cell_type": "markdown",
   "id": "efd58576",
   "metadata": {},
   "source": [
    "**Array Reshape** with `reshape` "
   ]
  },
  {
   "cell_type": "code",
   "execution_count": null,
   "id": "627ec03e",
   "metadata": {},
   "outputs": [],
   "source": [
    "# ndarray reshape\n",
    "\n",
    "reshape_number_array = number_array.reshape(2,3)\n",
    "print(reshape_number_array)"
   ]
  },
  {
   "cell_type": "markdown",
   "id": "58007012",
   "metadata": {},
   "source": [
    "**Attributes of ndarray** : `size`, `ndim`, `shape`, `dtype`"
   ]
  },
  {
   "cell_type": "code",
   "execution_count": null,
   "id": "735c5412",
   "metadata": {},
   "outputs": [],
   "source": [
    "def check_array_properties(array):\n",
    "    print(f\"Array type: {type(array)}\" )\n",
    "    print(f\"Array Size {number_array.size}\")\n",
    "    print(f\"Shape: {number_array.shape}\")\n",
    "    print(f\"Dimesions: {number_array.ndim}\")\n",
    "    print(f\"Dtype: {number_array.dtype}\" )\n",
    "\n",
    "\n",
    "print(\"----- number_array properties ------\")\n",
    "check_array_properties(number_array)"
   ]
  },
  {
   "cell_type": "code",
   "execution_count": null,
   "id": "db3f4910",
   "metadata": {},
   "outputs": [],
   "source": [
    "print(\"----- reshape_number_array properties ------\")\n",
    "check_array_properties(reshape_number_array)"
   ]
  },
  {
   "cell_type": "markdown",
   "id": "72e53430",
   "metadata": {},
   "source": [
    "**Array Indexing, Slicing, Iterating**"
   ]
  },
  {
   "cell_type": "code",
   "execution_count": null,
   "id": "e83da406",
   "metadata": {},
   "outputs": [],
   "source": [
    "# Array Indexing\n",
    "\n",
    "# from number_array = np.array([0, 1, 2, 3, 4, 5])\n",
    "# index start from 0\n",
    "\n",
    "print(number_array[0]) \n",
    "print(number_array[5])\n",
    "print(number_array[-1])\n",
    "print(number_array[-2])"
   ]
  },
  {
   "cell_type": "code",
   "execution_count": null,
   "id": "abc59648",
   "metadata": {},
   "outputs": [],
   "source": [
    "# Array Slicing\n",
    "\n",
    "print(number_array[0:2])\n",
    "print(number_array[2:5])\n",
    "print(number_array[2:])"
   ]
  },
  {
   "cell_type": "code",
   "execution_count": null,
   "id": "e949b7ff",
   "metadata": {},
   "outputs": [],
   "source": [
    "# Array Iterating\n",
    "\n",
    "for number in number_array:\n",
    "    print(f\"number {number} is in number_array\")\n"
   ]
  },
  {
   "cell_type": "markdown",
   "id": "ccf64205",
   "metadata": {},
   "source": [
    "## 8. **Matplotlib library**"
   ]
  },
  {
   "cell_type": "markdown",
   "id": "b7bb5a8f",
   "metadata": {},
   "source": [
    "Matplotlib is one of the visualization package in python"
   ]
  },
  {
   "cell_type": "markdown",
   "id": "d04d7237",
   "metadata": {},
   "source": [
    "### Plotting random signal"
   ]
  },
  {
   "cell_type": "code",
   "execution_count": null,
   "id": "38f639f5",
   "metadata": {},
   "outputs": [],
   "source": [
    "# Import matplotlib module\n",
    "import matplotlib.pyplot as plt\n",
    "\n",
    "# specify data length variable\n",
    "data_length = 50"
   ]
  },
  {
   "cell_type": "code",
   "execution_count": null,
   "id": "72ac05ea",
   "metadata": {},
   "outputs": [],
   "source": [
    "# generate random signal for y axis (lowest value = 1, size of array = 50)\n",
    "random_int = np.random.randint(low = 1, high = 100, size= data_length) "
   ]
  },
  {
   "cell_type": "code",
   "execution_count": null,
   "id": "6c38e09e",
   "metadata": {},
   "outputs": [],
   "source": [
    "# generate x axis\n",
    "x_axis = np.linspace(1, data_length, num = data_length)"
   ]
  },
  {
   "cell_type": "code",
   "execution_count": null,
   "id": "01ac21d9",
   "metadata": {},
   "outputs": [],
   "source": [
    "# plot x and y\n",
    "plt.plot(x_axis, random_int)"
   ]
  },
  {
   "cell_type": "markdown",
   "id": "5d3fda01",
   "metadata": {},
   "source": [
    "### Plotting 10 Hz Sine Wave (from numpy.org)"
   ]
  },
  {
   "cell_type": "code",
   "execution_count": null,
   "id": "7175f6c1",
   "metadata": {},
   "outputs": [],
   "source": [
    "# generate x axis array from 500 data points per second for 1 second\n",
    "data_points = 500\n",
    "x = np.linspace(0, 1, data_points)\n",
    "\n",
    "# generate sine wave array  with frequency 10 Hz \n",
    "sin_10Hz = np.sin(2*np.pi*10*x) # sin(2 * pi * t) = 1 Hz"
   ]
  },
  {
   "cell_type": "code",
   "execution_count": null,
   "id": "fdbcfc40",
   "metadata": {},
   "outputs": [],
   "source": [
    "# add x and y label\n",
    "plt.xlabel('Angle [rad]')\n",
    "plt.ylabel('sin(x)')\n",
    "\n",
    "# plot with specific line color\n",
    "plt.plot(x, sin_10Hz, color= 'green')"
   ]
  },
  {
   "cell_type": "markdown",
   "id": "cooked-appreciation",
   "metadata": {},
   "source": [
    "## 9. **Pandas library**"
   ]
  },
  {
   "cell_type": "code",
   "execution_count": null,
   "id": "portuguese-canada",
   "metadata": {},
   "outputs": [],
   "source": [
    "# Import Pandas Module : For Dataframe Manager\n",
    "import pandas as pd\n",
    "\n",
    "# Load dataset CSV file. \n",
    "dataset = pd.read_csv(\"dataset.csv\")"
   ]
  },
  {
   "cell_type": "code",
   "execution_count": null,
   "id": "c13d6efe",
   "metadata": {},
   "outputs": [],
   "source": [
    "# Print Dataset's Properties\n",
    "dataset.info()"
   ]
  },
  {
   "cell_type": "code",
   "execution_count": null,
   "id": "38648d37",
   "metadata": {},
   "outputs": [],
   "source": [
    "# Look inside the dataframe\n",
    "dataset.head(n=10)"
   ]
  },
  {
   "cell_type": "code",
   "execution_count": null,
   "id": "c13eac98",
   "metadata": {},
   "outputs": [],
   "source": [
    "# Get Insulin data of ALL patients. Using object-like syntax.\n",
    "dataset.Insulin"
   ]
  },
  {
   "cell_type": "code",
   "execution_count": null,
   "id": "1e1bd0df",
   "metadata": {},
   "outputs": [],
   "source": [
    "# Get Insulin data of ALL patients. Using dictionary-like syntax.\n",
    "dataset['Insulin']"
   ]
  },
  {
   "cell_type": "code",
   "execution_count": null,
   "id": "4dec73b8",
   "metadata": {},
   "outputs": [],
   "source": [
    "# By using a list, you can access multiple feature at a time.\n",
    "columns = ['Insulin', 'BMI']\n",
    "dataset[columns]"
   ]
  },
  {
   "cell_type": "code",
   "execution_count": null,
   "id": "e5e046d6",
   "metadata": {},
   "outputs": [],
   "source": [
    "# To get all feature from first patients (The first Row, Index[0]).\n",
    "dataset.loc[0] "
   ]
  },
  {
   "cell_type": "code",
   "execution_count": null,
   "id": "6dcfdaa6",
   "metadata": {},
   "outputs": [],
   "source": [
    "# To get all feature from Row Index[0] to Index[3].\n",
    "dataset.loc[0:3] "
   ]
  },
  {
   "cell_type": "code",
   "execution_count": null,
   "id": "c0509423",
   "metadata": {},
   "outputs": [],
   "source": [
    "# To get Row Index[0] to Index[3], On column 'Insulin' to 'Age'. (Including all columns in between)\n",
    "dataset.loc[0:3, 'Insulin':'Age'] "
   ]
  },
  {
   "cell_type": "code",
   "execution_count": null,
   "id": "6248e568",
   "metadata": {},
   "outputs": [],
   "source": [
    "# To get Row Index[0] to Index[3], On specific column which are 'BMI'and 'Age'.\n",
    "dataset.loc[0:3, ['BMI', 'Age']] "
   ]
  },
  {
   "cell_type": "markdown",
   "id": "6423935f",
   "metadata": {},
   "source": [
    "---"
   ]
  },
  {
   "cell_type": "markdown",
   "id": "df76bc7a",
   "metadata": {},
   "source": [
    "## Challenges\n",
    "\n",
    "These are some practice problems to ensure that you truly comprehend all of the previously listed concepts. All of these questions can be answered in a variety of ways. The sequence of the questions has nothing to do with difficulty, and you are not required to answer them in a certain ordering."
   ]
  },
  {
   "cell_type": "code",
   "execution_count": null,
   "id": "25efa35a",
   "metadata": {},
   "outputs": [],
   "source": [
    "### Basic Python"
   ]
  },
  {
   "cell_type": "code",
   "execution_count": null,
   "id": "975ef7fd",
   "metadata": {},
   "outputs": [],
   "source": [
    "# Example code 1 for Q-A01 to Q-A05\n",
    "\n",
    "n = 3\n",
    "for i in range (n):\n",
    "    print(i)"
   ]
  },
  {
   "cell_type": "code",
   "execution_count": null,
   "id": "5b3e2263",
   "metadata": {},
   "outputs": [],
   "source": [
    "# Example code 2 for Q-A01 to Q-A05\n",
    "\n",
    "n = 3\n",
    "for i in range (n):\n",
    "    print(\"X\")"
   ]
  },
  {
   "cell_type": "code",
   "execution_count": null,
   "id": "6ae06c87",
   "metadata": {},
   "outputs": [],
   "source": [
    "# Example code 3 for Q-A01 to Q-A05\n",
    "\n",
    "n = 3\n",
    "for i in range (n):\n",
    "    for j in range(n):\n",
    "        print(\"O\", end='')\n",
    "    print(\"\")"
   ]
  },
  {
   "cell_type": "markdown",
   "id": "69db4ac4",
   "metadata": {},
   "source": [
    "For **QA01 to Q-A05**, print the pattern as shown below when given `n = 4`."
   ]
  },
  {
   "cell_type": "markdown",
   "id": "fdfbcf38",
   "metadata": {},
   "source": [
    "**Q-A01** :\n",
    "\n",
    "```\n",
    "O \n",
    "O O\n",
    "O O O\n",
    "O O O O\n",
    "```"
   ]
  },
  {
   "cell_type": "code",
   "execution_count": null,
   "id": "b45b47ef",
   "metadata": {},
   "outputs": [],
   "source": []
  },
  {
   "cell_type": "markdown",
   "id": "c83113c9",
   "metadata": {},
   "source": [
    "**Q-A02** :\n",
    "\n",
    "```\n",
    "O X X X\n",
    "O O X X\n",
    "O O O X\n",
    "O O O O\n",
    "```"
   ]
  },
  {
   "cell_type": "code",
   "execution_count": null,
   "id": "ce137d9b",
   "metadata": {},
   "outputs": [],
   "source": []
  },
  {
   "cell_type": "markdown",
   "id": "a67c001c",
   "metadata": {},
   "source": [
    "**Q-A03** : \n",
    "\n",
    "```\n",
    "1 2 3 4\n",
    "1 2 3 4\n",
    "1 2 3 4\n",
    "1 2 3 4\n",
    "```"
   ]
  },
  {
   "cell_type": "code",
   "execution_count": null,
   "id": "9a4f5075",
   "metadata": {},
   "outputs": [],
   "source": []
  },
  {
   "cell_type": "markdown",
   "id": "1331f4f2",
   "metadata": {},
   "source": [
    "**Q-A04** : \n",
    "\n",
    "```\n",
    "O O O X\n",
    "O O X O\n",
    "O X O O\n",
    "X O O O\n",
    "```"
   ]
  },
  {
   "cell_type": "code",
   "execution_count": null,
   "id": "a45c08ab",
   "metadata": {},
   "outputs": [],
   "source": []
  },
  {
   "cell_type": "markdown",
   "id": "4f675a42",
   "metadata": {},
   "source": [
    "**Q-A05** : \n",
    "\n",
    "```\n",
    "X X X 4\n",
    "X X 3 4\n",
    "X 2 3 4\n",
    "1 2 3 4\n",
    "```"
   ]
  },
  {
   "cell_type": "code",
   "execution_count": null,
   "id": "1ec1140a",
   "metadata": {},
   "outputs": [],
   "source": []
  },
  {
   "cell_type": "markdown",
   "id": "f6598145",
   "metadata": {},
   "source": [
    "**Q-A06** : from given list `x = []`, find MAX, MIN, MEAN, STD of the list.\n",
    "\n",
    "*Suggestion : you can solve this question using either `pure python` or `by using numpy`.*"
   ]
  },
  {
   "cell_type": "code",
   "execution_count": null,
   "id": "d3933fcf",
   "metadata": {},
   "outputs": [],
   "source": []
  },
  {
   "cell_type": "markdown",
   "id": "7ec23756",
   "metadata": {},
   "source": [
    "### Numpy and Matplotlib"
   ]
  },
  {
   "cell_type": "markdown",
   "id": "7a4700ab",
   "metadata": {},
   "source": [
    "**Q-B01** : given list `x = []`. Find the MAXIMUM number in the list and indicate the index of that number. In this case, the answer should be `` at index `` of the list."
   ]
  },
  {
   "cell_type": "code",
   "execution_count": null,
   "id": "5a306ea0",
   "metadata": {},
   "outputs": [],
   "source": []
  },
  {
   "cell_type": "markdown",
   "id": "e3ba4c6e",
   "metadata": {},
   "source": [
    "**Q-B02** : Generate 2 Sine-wave of *10 hz and 50 Hz* at rate of 200 points per seconds for 1 second. Combine those signal and plot a graph."
   ]
  },
  {
   "cell_type": "code",
   "execution_count": null,
   "id": "72613197",
   "metadata": {},
   "outputs": [],
   "source": []
  },
  {
   "cell_type": "markdown",
   "id": "3e10fb6f",
   "metadata": {},
   "source": [
    "### Pandas "
   ]
  },
  {
   "cell_type": "markdown",
   "id": "ff097c2a",
   "metadata": {},
   "source": [
    "For the Pandas Challenge, apelase load dataset file `dataset.csv` which provided on same folder as this notebook."
   ]
  },
  {
   "cell_type": "markdown",
   "id": "f9a7bdda",
   "metadata": {},
   "source": [
    "**Q-C01** : Load provided dataset, find the MAX, MIN MEAN, STD from `BMI` of all patients."
   ]
  },
  {
   "cell_type": "code",
   "execution_count": null,
   "id": "8efdbea3",
   "metadata": {},
   "outputs": [],
   "source": []
  },
  {
   "cell_type": "markdown",
   "id": "27bb51d2",
   "metadata": {},
   "source": [
    "**Q-C02** : Load provided dataset, find the `MEAN BMI` of all patients who younger that 30 years old."
   ]
  },
  {
   "cell_type": "code",
   "execution_count": null,
   "id": "1a18a7aa",
   "metadata": {},
   "outputs": [],
   "source": []
  },
  {
   "cell_type": "markdown",
   "id": "9f84f696",
   "metadata": {},
   "source": [
    "**Q-C03** : Load provided dataset, Use scatter plot (2D Plot) to show the relation between `Insulin` and `BMI`."
   ]
  },
  {
   "cell_type": "code",
   "execution_count": null,
   "id": "c69c3e42",
   "metadata": {},
   "outputs": [],
   "source": []
  }
 ],
 "metadata": {
  "kernelspec": {
   "display_name": "Python 3",
   "language": "python",
   "name": "python3"
  },
  "language_info": {
   "codemirror_mode": {
    "name": "ipython",
    "version": 3
   },
   "file_extension": ".py",
   "mimetype": "text/x-python",
   "name": "python",
   "nbconvert_exporter": "python",
   "pygments_lexer": "ipython3",
   "version": "3.8.8"
  }
 },
 "nbformat": 4,
 "nbformat_minor": 5
}
