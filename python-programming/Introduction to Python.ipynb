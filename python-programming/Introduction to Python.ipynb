{
 "cells": [
  {
   "cell_type": "markdown",
   "id": "transparent-bristol",
   "metadata": {},
   "source": [
    "# **Introduction to Python**\n",
    "\n",
    "Reference: [AI Builders introduction to Python notebook](https://github.com/vistec-AI/ai-builders/blob/main/notebooks/ai_builder_intro_python.ipynb)"
   ]
  },
  {
   "cell_type": "markdown",
   "id": "supposed-victory",
   "metadata": {},
   "source": [
    "## 1. Basic Arithmethics\n",
    "\n",
    "Python can run simple math expressions: `+`, `-`, `*` (for multiplication), and `/` (for division), `%` for modulo"
   ]
  },
  {
   "cell_type": "code",
   "execution_count": null,
   "id": "documented-saying",
   "metadata": {},
   "outputs": [],
   "source": []
  },
  {
   "cell_type": "markdown",
   "id": "medium-velvet",
   "metadata": {},
   "source": [
    "## 2. **Function**\n",
    "\n",
    "You can write a Python function by using:\n",
    "\n",
    "``` py\n",
    "def your_function_name(...):\n",
    "    \"\"\"Description of your function\"\"\"\n",
    "    return ...\n",
    "```\n",
    "\n",
    "Generally, function name tells what function does."
   ]
  },
  {
   "cell_type": "markdown",
   "id": "banned-crawford",
   "metadata": {},
   "source": [
    "## Example: Temperature conversion\n",
    "\n",
    "We know that $\\frac{C}{5} = \\frac{F - 32}{9}$. Let's now write a function to convert temperature in Celcius to Farenheit and vice versa."
   ]
  },
  {
   "cell_type": "code",
   "execution_count": null,
   "id": "proof-immune",
   "metadata": {},
   "outputs": [],
   "source": []
  },
  {
   "cell_type": "markdown",
   "id": "married-england",
   "metadata": {},
   "source": [
    "## 3. Variables"
   ]
  },
  {
   "cell_type": "code",
   "execution_count": null,
   "id": "removed-relation",
   "metadata": {},
   "outputs": [],
   "source": []
  },
  {
   "cell_type": "markdown",
   "id": "congressional-ideal",
   "metadata": {},
   "source": [
    "## 4. Conditions"
   ]
  },
  {
   "cell_type": "code",
   "execution_count": null,
   "id": "durable-rogers",
   "metadata": {},
   "outputs": [],
   "source": []
  },
  {
   "cell_type": "markdown",
   "id": "bacterial-agenda",
   "metadata": {},
   "source": [
    "## 5.  Lists and For loops"
   ]
  },
  {
   "cell_type": "code",
   "execution_count": null,
   "id": "requested-mortgage",
   "metadata": {},
   "outputs": [],
   "source": []
  },
  {
   "cell_type": "markdown",
   "id": "mental-swimming",
   "metadata": {},
   "source": [
    "## 6. Modules and Packages\n",
    "\n",
    "Packages are a way of structuring Python’s module namespace by using “dotted module names”."
   ]
  },
  {
   "cell_type": "code",
   "execution_count": null,
   "id": "interim-algebra",
   "metadata": {},
   "outputs": [],
   "source": []
  },
  {
   "cell_type": "markdown",
   "id": "appointed-shore",
   "metadata": {},
   "source": [
    "## 7. Numpy library\n",
    "\n",
    "NumPy is one of the the fundamental package for scientific computing in Python.\n"
   ]
  },
  {
   "cell_type": "code",
   "execution_count": null,
   "id": "elementary-rotation",
   "metadata": {},
   "outputs": [],
   "source": []
  },
  {
   "cell_type": "markdown",
   "id": "cooked-appreciation",
   "metadata": {},
   "source": [
    "## 8. **Pandas library**"
   ]
  },
  {
   "cell_type": "code",
   "execution_count": null,
   "id": "portuguese-canada",
   "metadata": {},
   "outputs": [],
   "source": []
  }
 ],
 "metadata": {
  "kernelspec": {
   "display_name": "Python 3",
   "language": "python",
   "name": "python3"
  },
  "language_info": {
   "codemirror_mode": {
    "name": "ipython",
    "version": 3
   },
   "file_extension": ".py",
   "mimetype": "text/x-python",
   "name": "python",
   "nbconvert_exporter": "python",
   "pygments_lexer": "ipython3",
   "version": "3.7.4"
  }
 },
 "nbformat": 4,
 "nbformat_minor": 5
}
