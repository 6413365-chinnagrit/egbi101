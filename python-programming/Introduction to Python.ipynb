{
 "cells": [
  {
   "cell_type": "markdown",
   "id": "transparent-bristol",
   "metadata": {},
   "source": [
    "# **Introduction to Python**\n",
    "\n",
    "Reference: [AI Builders introduction to Python notebook](https://github.com/vistec-AI/ai-builders/blob/main/notebooks/ai_builder_intro_python.ipynb)"
   ]
  },
  {
   "cell_type": "markdown",
   "id": "supposed-victory",
   "metadata": {},
   "source": [
    "## 1. Basic Arithmethics\n",
    "\n",
    "Python can run simple math expressions: `+`, `-`, `*` (for multiplication), and `/` (for division), `%` for modulo, `//` for Floor division, `**` for Exponentiation."
   ]
  },
  {
   "cell_type": "code",
   "execution_count": null,
   "id": "144d4d14",
   "metadata": {},
   "outputs": [],
   "source": []
  },
  {
   "cell_type": "markdown",
   "id": "married-england",
   "metadata": {},
   "source": [
    "## 2. Variables"
   ]
  },
  {
   "cell_type": "markdown",
   "id": "ba76de99",
   "metadata": {},
   "source": [
    "```py\n",
    "# Print Command\n",
    "print(\"Hello world!\")\n",
    "\n",
    "# Variables Type\n",
    "10\n",
    "186.5\n",
    "\"Hello worlds\"\n",
    "True\n",
    "False\n",
    "(1, 2)\n",
    "{\"name\": \"John Doe\", \"email\": \"john.doe@mail.com\"}\n",
    "[1, 2, 3, 4, 5, 8]\n",
    "{1, 2, 3}\n",
    "```\n",
    "\n",
    "you can use `type(<variable_name>)` to get type of variables"
   ]
  },
  {
   "cell_type": "code",
   "execution_count": null,
   "id": "64131c4b",
   "metadata": {},
   "outputs": [],
   "source": []
  },
  {
   "cell_type": "markdown",
   "id": "medium-velvet",
   "metadata": {},
   "source": [
    "## 3. Function\n",
    "\n",
    "You can write a Python function by using:\n",
    "\n",
    "``` py\n",
    "def your_function_name(...):\n",
    "    \"\"\"Description of your function\"\"\"\n",
    "    return ...\n",
    "```\n",
    "\n",
    "Generally, function name tells what function does."
   ]
  },
  {
   "cell_type": "code",
   "execution_count": null,
   "id": "documented-saying",
   "metadata": {},
   "outputs": [],
   "source": []
  },
  {
   "cell_type": "markdown",
   "id": "banned-crawford",
   "metadata": {},
   "source": [
    "### Example: Temperature conversion\n",
    "\n",
    "We know that $\\frac{C}{5} = \\frac{F - 32}{9}$. Let's now write a function to convert temperature in Celcius to Farenheit and vice versa."
   ]
  },
  {
   "cell_type": "code",
   "execution_count": null,
   "id": "proof-immune",
   "metadata": {},
   "outputs": [],
   "source": []
  },
  {
   "cell_type": "markdown",
   "id": "congressional-ideal",
   "metadata": {},
   "source": [
    "## 4. Conditions"
   ]
  },
  {
   "cell_type": "markdown",
   "id": "1b11a237",
   "metadata": {},
   "source": [
    "Boolean is a type of variable which contain logic, it can be either `TRUE` or `FALSE`. Rational operation will give you a value of boolean.\n",
    "\n",
    "**Relational operator** \n",
    "\n",
    "```py\n",
    "5 > 2 # True\n",
    "4 >= 5 # False\n",
    "5 == 10 # False\n",
    "'hello' == 'hello' # True\n",
    "'Hello' == 'hello' # False\n",
    "'hello' != 'hello' # False\n",
    "'Hello' != 'hello'  # True\n",
    "'orange' < 'apple' # compare by alphabetical order\n",
    "```\n",
    "\n",
    "**or, and, not Operator**\n",
    "```py\n",
    "digit = 3\n",
    "digit == 8 or digit == 9 # False or False => False\n",
    "not True # False\n",
    "```"
   ]
  },
  {
   "cell_type": "code",
   "execution_count": null,
   "id": "durable-rogers",
   "metadata": {},
   "outputs": [],
   "source": []
  },
  {
   "cell_type": "markdown",
   "id": "9c42abac",
   "metadata": {},
   "source": [
    "Boolean operator can be used with `if` command for checking conditions and make a decision relied on the given value."
   ]
  },
  {
   "cell_type": "code",
   "execution_count": null,
   "id": "8b0bc30f",
   "metadata": {},
   "outputs": [],
   "source": [
    "apple_total = 20\n",
    "banana_total = 6\n",
    "if apple_total > banana_total:\n",
    "    print('A')\n",
    "\n",
    "\n",
    "if apple_total > banana_total:\n",
    "    print('A')\n",
    "elif banana_total > apple_total:\n",
    "    print('B')\n",
    "else: # apple_total == banana_total\n",
    "    print('T')"
   ]
  },
  {
   "cell_type": "markdown",
   "id": "bacterial-agenda",
   "metadata": {},
   "source": [
    "## 5.  Lists and For loops"
   ]
  },
  {
   "cell_type": "markdown",
   "id": "2f54b691",
   "metadata": {},
   "source": [
    "Instead of applying function for each point of data manually, packing data into a `list` then apply a function for each elements is more practical. You can iteration along the member in the lsit by using `for`"
   ]
  },
  {
   "cell_type": "code",
   "execution_count": null,
   "id": "4ef2d484",
   "metadata": {},
   "outputs": [],
   "source": [
    "for fruit in [\"apple\", \"orange\", \"tomato\"]:\n",
    "    print(fruit)"
   ]
  },
  {
   "cell_type": "code",
   "execution_count": null,
   "id": "a00bc6fc",
   "metadata": {},
   "outputs": [],
   "source": [
    "for id, fruit in enumerate([\"apple\", \"orange\", \"tomato\"]):\n",
    "    print(f\"ID {id} : {fruit}\")"
   ]
  },
  {
   "cell_type": "code",
   "execution_count": null,
   "id": "requested-mortgage",
   "metadata": {},
   "outputs": [],
   "source": [
    "sum = 0\n",
    "for i in range(10):\n",
    "    sum += i\n",
    "print(sum)"
   ]
  },
  {
   "cell_type": "markdown",
   "id": "mental-swimming",
   "metadata": {},
   "source": [
    "## 6. Modules and Packages\n",
    "\n",
    "Packages are a way of structuring Python’s module namespace by using “dotted module names”."
   ]
  },
  {
   "cell_type": "code",
   "execution_count": null,
   "id": "interim-algebra",
   "metadata": {},
   "outputs": [],
   "source": []
  },
  {
   "cell_type": "markdown",
   "id": "appointed-shore",
   "metadata": {},
   "source": [
    "## 7. Numpy library\n",
    "\n",
    "NumPy is one of the the fundamental package for scientific computing in Python.\n"
   ]
  },
  {
   "cell_type": "code",
   "execution_count": null,
   "id": "elementary-rotation",
   "metadata": {},
   "outputs": [],
   "source": [
    "# Import numpy module"
   ]
  },
  {
   "cell_type": "markdown",
   "id": "cd8e0e0c",
   "metadata": {},
   "source": [
    "**"
   ]
  },
  {
   "cell_type": "markdown",
   "id": "cooked-appreciation",
   "metadata": {},
   "source": [
    "## 8. **Pandas library**"
   ]
  },
  {
   "cell_type": "code",
   "execution_count": null,
   "id": "portuguese-canada",
   "metadata": {},
   "outputs": [],
   "source": []
  }
 ],
 "metadata": {
  "kernelspec": {
   "display_name": "Python 3",
   "language": "python",
   "name": "python3"
  },
  "language_info": {
   "codemirror_mode": {
    "name": "ipython",
    "version": 3
   },
   "file_extension": ".py",
   "mimetype": "text/x-python",
   "name": "python",
   "nbconvert_exporter": "python",
   "pygments_lexer": "ipython3",
   "version": "3.8.8"
  }
 },
 "nbformat": 4,
 "nbformat_minor": 5
}
